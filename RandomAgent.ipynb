{
  "nbformat": 4,
  "nbformat_minor": 0,
  "metadata": {
    "colab": {
      "provenance": [],
      "authorship_tag": "ABX9TyPI02jxfhwCk3qoL+flpdhk",
      "include_colab_link": true
    },
    "kernelspec": {
      "name": "python3",
      "display_name": "Python 3"
    },
    "language_info": {
      "name": "python"
    }
  },
  "cells": [
    {
      "cell_type": "markdown",
      "metadata": {
        "id": "view-in-github",
        "colab_type": "text"
      },
      "source": [
        "<a href=\"https://colab.research.google.com/github/Zhi-704/ERL/blob/master/RandomAgent.ipynb\" target=\"_parent\"><img src=\"https://colab.research.google.com/assets/colab-badge.svg\" alt=\"Open In Colab\"/></a>"
      ]
    },
    {
      "cell_type": "code",
      "execution_count": null,
      "metadata": {
        "id": "OjolKmzHylnW"
      },
      "outputs": [],
      "source": [
        "pip install jumanji"
      ]
    },
    {
      "cell_type": "code",
      "source": [
        "import jumanji\n",
        "import jax.numpy as jnp\n",
        "import jax\n",
        "import random"
      ],
      "metadata": {
        "id": "X1AXP_KxywMX"
      },
      "execution_count": null,
      "outputs": []
    },
    {
      "cell_type": "code",
      "source": [
        "# No rewards just yet\n",
        "\n",
        "def get_action(state):\n",
        "  array = np.array(state.action_mask)\n",
        "  # Flatten the array\n",
        "  flattened_array = array.flatten()\n",
        "  # Get the indices of True values\n",
        "  true_indices = np.where(flattened_array)[0]\n",
        "  if len(true_indices) == 0:\n",
        "   return False\n",
        "  random_index = np.random.choice(true_indices)\n",
        "  # Convert the random index to two-dimensional coordinates\n",
        "  rotation, col_index = np.unravel_index(random_index, array.shape)\n",
        "  return [rotation,col_index]\n",
        "\n",
        "def RandomAgent():\n",
        "  env = jumanji.make('Tetris-v0', time_limit = 1000)\n",
        "  key = jax.random.PRNGKey(0)\n",
        "  state, timestep = jax.jit(env.reset)(key)\n",
        "\n",
        "  for i in range(50):\n",
        "    action = get_action(state)\n",
        "    print(action)\n",
        "    if action == False:\n",
        "      key = jax.random.PRNGKey(0)\n",
        "      state, timestep = jax.jit(env.reset)(key)\n",
        "      print(\"Environment Reset\")\n",
        "      continue\n",
        "    state, timestep = jax.jit(env.step)(state, action)\n",
        "    env.render(state)\n",
        "\n",
        "RandomAgent()"
      ],
      "metadata": {
        "id": "R7OF_aKfyw9E"
      },
      "execution_count": null,
      "outputs": []
    }
  ]
}